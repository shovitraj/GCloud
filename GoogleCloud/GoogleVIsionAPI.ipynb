{
  "nbformat": 4,
  "nbformat_minor": 0,
  "metadata": {
    "colab": {
      "name": "GoogleVIsionAPI.ipynb",
      "provenance": [],
      "collapsed_sections": [],
      "authorship_tag": "ABX9TyOhkftCr0lwp5Qy/xGXdQq9",
      "include_colab_link": true
    },
    "kernelspec": {
      "name": "python3",
      "display_name": "Python 3"
    }
  },
  "cells": [
    {
      "cell_type": "markdown",
      "metadata": {
        "id": "view-in-github",
        "colab_type": "text"
      },
      "source": [
        "<a href=\"https://colab.research.google.com/github/shovitraj/GCloud/blob/main/GoogleVIsionAPI.ipynb\" target=\"_parent\"><img src=\"https://colab.research.google.com/assets/colab-badge.svg\" alt=\"Open In Colab\"/></a>"
      ]
    },
    {
      "cell_type": "code",
      "metadata": {
        "id": "sXuYiIQM1fSV"
      },
      "source": [
        "!pip install --upgrade google-cloud-vision\n",
        "!pip install --upgrade google-cloud-speech\n",
        "!pip install --upgrade google-cloud-language\n",
        "!pip install --upgrade google-cloud-texttospeech"
      ],
      "execution_count": null,
      "outputs": []
    },
    {
      "cell_type": "code",
      "metadata": {
        "colab": {
          "resources": {
            "http://localhost:8080/nbextensions/google.colab/files.js": {
              "data": "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",
              "ok": true,
              "headers": [
                [
                  "content-type",
                  "application/javascript"
                ]
              ],
              "status": 200,
              "status_text": ""
            }
          },
          "base_uri": "https://localhost:8080/",
          "height": 89
        },
        "id": "7-mDRAzF1g_x",
        "outputId": "bf0cc470-8265-4756-cc15-0b5c99cacb7d"
      },
      "source": [
        "from google.colab import files\n",
        "uploaded = files.upload()\n",
        "\n",
        "for fn in uploaded.keys():\n",
        "  print('User uploaded file \"{name}\" with length {length} bytes'.format(name=fn, length=len(uploaded[fn])))"
      ],
      "execution_count": null,
      "outputs": [
        {
          "output_type": "display_data",
          "data": {
            "text/html": [
              "\n",
              "     <input type=\"file\" id=\"files-6be38472-b516-420b-af1f-8894e299d916\" name=\"files[]\" multiple disabled\n",
              "        style=\"border:none\" />\n",
              "     <output id=\"result-6be38472-b516-420b-af1f-8894e299d916\">\n",
              "      Upload widget is only available when the cell has been executed in the\n",
              "      current browser session. Please rerun this cell to enable.\n",
              "      </output>\n",
              "      <script src=\"/nbextensions/google.colab/files.js\"></script> "
            ],
            "text/plain": [
              "<IPython.core.display.HTML object>"
            ]
          },
          "metadata": {
            "tags": []
          }
        },
        {
          "output_type": "stream",
          "text": [
            "Saving avid-atrium-296502-9e6921103dfe.json to avid-atrium-296502-9e6921103dfe.json\n",
            "User uploaded file \"avid-atrium-296502-9e6921103dfe.json\" with length 2343 bytes\n"
          ],
          "name": "stdout"
        }
      ]
    },
    {
      "cell_type": "code",
      "metadata": {
        "colab": {
          "base_uri": "https://localhost:8080/"
        },
        "id": "jmfnyMJE3OBg",
        "outputId": "dadbf495-3ea8-46a0-ad70-b987de962b7d"
      },
      "source": [
        "import os\n",
        "# Imports Credential File:\n",
        "os.environ[\"GOOGLE_APPLICATION_CREDENTIALS\"] = \"avid-atrium-296502-9e6921103dfe.json\"\n",
        "print(\"Service Account Key: {}\".format(os.environ[\"GOOGLE_APPLICATION_CREDENTIALS\"]))"
      ],
      "execution_count": null,
      "outputs": [
        {
          "output_type": "stream",
          "text": [
            "Service Account Key: avid-atrium-296502-9e6921103dfe.json\n"
          ],
          "name": "stdout"
        }
      ]
    },
    {
      "cell_type": "code",
      "metadata": {
        "colab": {
          "base_uri": "https://localhost:8080/"
        },
        "id": "JsM_f5FY3biJ",
        "outputId": "d6b28ac2-ab47-4223-bf1a-e18155d3ea67"
      },
      "source": [
        "def labelAnnotation(url):\n",
        "  # Imports the Google Cloud client library\n",
        "  from google.cloud import vision\n",
        "  #from google.cloud.vision import types\n",
        "  # Instantiates a client\n",
        "  client = vision.ImageAnnotatorClient()\n",
        "\n",
        "  response = client.annotate_image({\n",
        "     'image': {'source': \n",
        "               {'image_uri': url}\n",
        "              },\n",
        "  })\n",
        "\n",
        "  # Detect and Print Labels:\n",
        "  labels = response.label_annotations\n",
        "  print(\"Labels: \")\n",
        "  for label in labels:\n",
        "    print(\"Description: \", label.description, \"Confidence: \", label.score)\n",
        "  \n",
        "\n",
        "labelAnnotation(\"https://storage.googleapis.com/weatherwarning-149901.appspot.com/Photography/Japan/_DSC0108.JPG\")"
      ],
      "execution_count": null,
      "outputs": [
        {
          "output_type": "stream",
          "text": [
            "Labels: \n",
            "Description:  Land vehicle Confidence:  0.9961627125740051\n",
            "Description:  Vehicle Confidence:  0.9903031587600708\n",
            "Description:  Car Confidence:  0.9870125651359558\n",
            "Description:  Coupé Confidence:  0.8941614627838135\n",
            "Description:  Sedan Confidence:  0.89326411485672\n",
            "Description:  Classic car Confidence:  0.8044964075088501\n",
            "Description:  Automotive design Confidence:  0.7228396534919739\n",
            "Description:  Hardtop Confidence:  0.5989000201225281\n",
            "Description:  Compact car Confidence:  0.5630393028259277\n",
            "Description:  Executive car Confidence:  0.5417159199714661\n"
          ],
          "name": "stdout"
        }
      ]
    },
    {
      "cell_type": "code",
      "metadata": {
        "id": "jNtb0cEx3meL"
      },
      "source": [
        "# Detect Landmarks:\n",
        "\n",
        "def landmarkDetection(uri):\n",
        "    \"\"\"Detects logos in the file located in Google Cloud Storage or on the Web.\n",
        "    \"\"\"\n",
        "    # Imports the Google Cloud client library\n",
        "    from google.cloud import vision\n",
        "    #from google.cloud.vision import types\n",
        "    \n",
        "    client = vision.ImageAnnotatorClient()\n",
        "    image = vision.Image()\n",
        "    image.source.image_uri = uri\n",
        "\n",
        "    response = client.landmark_detection(image=image)\n",
        "       \n",
        "#     print(response) #Uncomment this line, to get a more detailed response!  \n",
        "    landmarks = response.landmark_annotations\n",
        "    print('Landmark:')\n",
        "\n",
        "    for landmark in landmarks:\n",
        "        print(landmark.description)"
      ],
      "execution_count": null,
      "outputs": []
    },
    {
      "cell_type": "code",
      "metadata": {
        "colab": {
          "base_uri": "https://localhost:8080/"
        },
        "id": "ExoAJTrG4Pkt",
        "outputId": "6a2e7ac4-08f7-4391-fd0b-b31066693c8c"
      },
      "source": [
        "\n",
        "landmarkDetection(\"https://storage.googleapis.com/weatherwarning-149901.appspot.com/Photography/Japan/_DSC0192.JPG\")"
      ],
      "execution_count": null,
      "outputs": [
        {
          "output_type": "stream",
          "text": [
            "Landmark:\n",
            "Itsukushima Floating Torii Gate\n",
            "Itsukushima Shrine\n",
            "Itsukushima Shrine\n"
          ],
          "name": "stdout"
        }
      ]
    },
    {
      "cell_type": "code",
      "metadata": {
        "colab": {
          "base_uri": "https://localhost:8080/"
        },
        "id": "SHoqepyZ4Vm0",
        "outputId": "4f30f825-6e47-4d3f-f6ad-dc1ad91e326c"
      },
      "source": [
        "landmarkDetection(\"https://storage.googleapis.com/automlworkshop-216804-vcm/Bridge.jpg\")"
      ],
      "execution_count": null,
      "outputs": [
        {
          "output_type": "stream",
          "text": [
            "Landmark:\n"
          ],
          "name": "stdout"
        }
      ]
    },
    {
      "cell_type": "code",
      "metadata": {
        "id": "6qkfQbSa4icv"
      },
      "source": [
        "def detect_text_uri(uri):\n",
        "    \"\"\"Detects logos in the file located in Google Cloud Storage or on the Web.\n",
        "    \"\"\"\n",
        "    # Imports the Google Cloud client library\n",
        "    from google.cloud import vision\n",
        "    #from google.cloud.vision import types\n",
        "    \n",
        "    client = vision.ImageAnnotatorClient()\n",
        "    image = vision.Image()\n",
        "    image.source.image_uri = uri\n",
        "\n",
        "    response = client.text_detection(image=image)\n",
        "    texts = response.text_annotations\n",
        "    print('Texts:')\n",
        "\n",
        "    for text in texts:\n",
        "        print(text.description)\n"
      ],
      "execution_count": null,
      "outputs": []
    },
    {
      "cell_type": "code",
      "metadata": {
        "colab": {
          "base_uri": "https://localhost:8080/"
        },
        "id": "10FgfA-I4vq6",
        "outputId": "9577119e-cefd-42da-ecff-0b60b2500487"
      },
      "source": [
        "detect_text_uri(\"https://s3.amazonaws.com/production-wordpress-assets/blog/wp-content/uploads/2016/11/29074529/500-internal-server-error.png\")"
      ],
      "execution_count": null,
      "outputs": [
        {
          "output_type": "stream",
          "text": [
            "Texts:\n",
            "Google\n",
            "500. That's an error.\n",
            "There was an error. Please try again later. That's all we\n",
            "know.\n",
            "\n",
            "Google\n",
            "500.\n",
            "That's\n",
            "an\n",
            "error.\n",
            "There\n",
            "was\n",
            "an\n",
            "error.\n",
            "Please\n",
            "try\n",
            "again\n",
            "later.\n",
            "That's\n",
            "all\n",
            "we\n",
            "know.\n"
          ],
          "name": "stdout"
        }
      ]
    },
    {
      "cell_type": "code",
      "metadata": {
        "colab": {
          "base_uri": "https://localhost:8080/"
        },
        "id": "ViSVmyvC7gjX",
        "outputId": "4a128fef-5eca-4466-cd42-b4f7f2c728bb"
      },
      "source": [
        "detect_text_uri(\"https://www.google.com/url?sa=i&url=https%3A%2F%2Fresumelab.com%2Fresume-examples%2Fentry-level&psig=AOvVaw2gfJr5NPjka5JhjyF7EcLC&ust=1606268856226000&source=images&cd=vfe&ved=0CAIQjRxqFwoTCLj19vaHmu0CFQAAAAAdAAAAABAv\")"
      ],
      "execution_count": null,
      "outputs": [
        {
          "output_type": "stream",
          "text": [
            "Texts:\n"
          ],
          "name": "stdout"
        }
      ]
    },
    {
      "cell_type": "code",
      "metadata": {
        "id": "fgRApce44wPg"
      },
      "source": [
        "def detect_document_uri(uri):\n",
        "    \"\"\"Detects document features in the file located in Google Cloud\n",
        "    Storage.\"\"\"\n",
        "    # Imports the Google Cloud client library\n",
        "    from google.cloud import vision\n",
        "    #from google.cloud.vision import types\n",
        "    \n",
        "    client = vision.ImageAnnotatorClient()\n",
        "    image = vision.Image()\n",
        "    image.source.image_uri = uri\n",
        "    \n",
        "    response = client.document_text_detection(image=image,image_context={'language_hints':'en-t-i0-handwrit'})\n",
        "\n",
        "    for page in response.full_text_annotation.pages:\n",
        "        for block in page.blocks:\n",
        "            print('\\nBlock confidence: {}\\n'.format(block.confidence))\n",
        "\n",
        "            for paragraph in block.paragraphs:\n",
        "                print('Paragraph confidence: {}'.format(\n",
        "                    paragraph.confidence))\n",
        "\n",
        "                for word in paragraph.words:\n",
        "                    word_text = ''.join([\n",
        "                        symbol.text for symbol in word.symbols\n",
        "                    ])\n",
        "                    print('Word text: {} (confidence: {})'.format(\n",
        "                        word_text, word.confidence))\n",
        "                    \n",
        "#                     If you want every single symbol in a paragraph:\n",
        "\n",
        "#                     for symbol in word.symbols:\n",
        "#                         print('\\tSymbol: {} (confidence: {})'.format(\n",
        "#                             symbol.text, symbol.confidence))\n"
      ],
      "execution_count": null,
      "outputs": []
    },
    {
      "cell_type": "code",
      "metadata": {
        "colab": {
          "base_uri": "https://localhost:8080/"
        },
        "id": "ky_OH44e5Nev",
        "outputId": "4ac4ad5f-560b-40d1-9bf4-3f59db561ff9"
      },
      "source": [
        "\n",
        "detect_document_uri(\"https://i.redd.it/7nw3ercwgj011.jpg\")"
      ],
      "execution_count": null,
      "outputs": [
        {
          "output_type": "stream",
          "text": [
            "\n",
            "Block confidence: 0.9300000071525574\n",
            "\n",
            "Paragraph confidence: 0.949999988079071\n",
            "Word text: this (confidence: 0.9900000095367432)\n",
            "Word text: is (confidence: 0.9900000095367432)\n",
            "Word text: my (confidence: 0.9900000095367432)\n",
            "Word text: handwriting (confidence: 0.9399999976158142)\n",
            "Word text: . (confidence: 0.5899999737739563)\n",
            "Word text: this (confidence: 0.949999988079071)\n",
            "Word text: is (confidence: 0.9900000095367432)\n",
            "Word text: my (confidence: 0.9900000095367432)\n",
            "Paragraph confidence: 0.8999999761581421\n",
            "Word text: handwriting (confidence: 0.8999999761581421)\n",
            "\n",
            "Block confidence: 0.9100000262260437\n",
            "\n",
            "Paragraph confidence: 0.9100000262260437\n",
            "Word text: this (confidence: 0.9900000095367432)\n",
            "Word text: is (confidence: 0.9900000095367432)\n",
            "Word text: my (confidence: 0.9900000095367432)\n",
            "Word text: handwriting (confidence: 0.9599999785423279)\n",
            "Word text: 这 (confidence: 0.5299999713897705)\n",
            "Word text: 是 (confidence: 0.5299999713897705)\n",
            "Word text: 我 (confidence: 0.5099999904632568)\n",
            "Word text: 的 (confidence: 0.9599999785423279)\n",
            "Word text: 笔迹 (confidence: 0.8999999761581421)\n",
            "Word text: 。 (confidence: 0.9399999976158142)\n",
            "\n",
            "Block confidence: 0.8399999737739563\n",
            "\n",
            "Paragraph confidence: 0.8399999737739563\n",
            "Word text: 這 (confidence: 0.9599999785423279)\n",
            "Word text: 是 (confidence: 0.8799999952316284)\n",
            "Word text: 我 (confidence: 0.5299999713897705)\n",
            "Word text: 的 (confidence: 0.949999988079071)\n",
            "Word text: 筆跡 (confidence: 0.8899999856948853)\n",
            "Word text: , (confidence: 0.8199999928474426)\n"
          ],
          "name": "stdout"
        }
      ]
    }
  ]
}