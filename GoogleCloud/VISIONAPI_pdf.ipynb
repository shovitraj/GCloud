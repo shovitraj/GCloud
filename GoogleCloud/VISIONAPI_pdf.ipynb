{
  "nbformat": 4,
  "nbformat_minor": 0,
  "metadata": {
    "colab": {
      "name": "VISIONAPI_pdf.ipynb",
      "provenance": [],
      "authorship_tag": "ABX9TyP+ukViTtvjr0eIaJMhtmTX",
      "include_colab_link": true
    },
    "kernelspec": {
      "name": "python3",
      "display_name": "Python 3"
    }
  },
  "cells": [
    {
      "cell_type": "markdown",
      "metadata": {
        "id": "view-in-github",
        "colab_type": "text"
      },
      "source": [
        "<a href=\"https://colab.research.google.com/github/shovitraj/GCloud/blob/main/VISIONAPI_pdf.ipynb\" target=\"_parent\"><img src=\"https://colab.research.google.com/assets/colab-badge.svg\" alt=\"Open In Colab\"/></a>"
      ]
    },
    {
      "cell_type": "code",
      "metadata": {
        "id": "Q0Mh2OvZ0_l_"
      },
      "source": [
        "!pip install --upgrade google-cloud-vision\n",
        "!pip install --upgrade google-cloud-storage\n"
      ],
      "execution_count": null,
      "outputs": []
    },
    {
      "cell_type": "code",
      "metadata": {
        "colab": {
          "resources": {
            "http://localhost:8080/nbextensions/google.colab/files.js": {
              "data": "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",
              "ok": true,
              "headers": [
                [
                  "content-type",
                  "application/javascript"
                ]
              ],
              "status": 200,
              "status_text": ""
            }
          },
          "base_uri": "https://localhost:8080/",
          "height": 89
        },
        "id": "jKe8ARMx1eXq",
        "outputId": "e0935e5d-8e41-461e-e370-d763d3a332f7"
      },
      "source": [
        "from google.colab import files\n",
        "uploaded = files.upload()\n",
        "\n",
        "for fn in uploaded.keys():\n",
        "  print('User uploaded file \"{name}\" with length {length} bytes'.format(name=fn, length=len(uploaded[fn])))"
      ],
      "execution_count": 7,
      "outputs": [
        {
          "output_type": "display_data",
          "data": {
            "text/html": [
              "\n",
              "     <input type=\"file\" id=\"files-f1d893e5-ccef-4aba-9c80-05cb6f2177f3\" name=\"files[]\" multiple disabled\n",
              "        style=\"border:none\" />\n",
              "     <output id=\"result-f1d893e5-ccef-4aba-9c80-05cb6f2177f3\">\n",
              "      Upload widget is only available when the cell has been executed in the\n",
              "      current browser session. Please rerun this cell to enable.\n",
              "      </output>\n",
              "      <script src=\"/nbextensions/google.colab/files.js\"></script> "
            ],
            "text/plain": [
              "<IPython.core.display.HTML object>"
            ]
          },
          "metadata": {
            "tags": []
          }
        },
        {
          "output_type": "stream",
          "text": [
            "Saving avid-atrium-296502-9e6921103dfe.json to avid-atrium-296502-9e6921103dfe (1).json\n",
            "User uploaded file \"avid-atrium-296502-9e6921103dfe.json\" with length 2343 bytes\n"
          ],
          "name": "stdout"
        }
      ]
    },
    {
      "cell_type": "code",
      "metadata": {
        "colab": {
          "base_uri": "https://localhost:8080/"
        },
        "id": "60Tkq2CD1id4",
        "outputId": "80f1b481-442a-4358-c680-072bad74030a"
      },
      "source": [
        "import os, io\n",
        "# Imports Credential File:\n",
        "os.environ[\"GOOGLE_APPLICATION_CREDENTIALS\"] = \"avid-atrium-296502-9e6921103dfe.json\"\n",
        "print(\"Service Account Key: {}\".format(os.environ[\"GOOGLE_APPLICATION_CREDENTIALS\"]))\n",
        "\n",
        "#'gs://meropdf/Syllabus.pdf'"
      ],
      "execution_count": 1,
      "outputs": [
        {
          "output_type": "stream",
          "text": [
            "Service Account Key: avid-atrium-296502-9e6921103dfe.json\n"
          ],
          "name": "stdout"
        }
      ]
    },
    {
      "cell_type": "code",
      "metadata": {
        "id": "7-Ls_fM-1iy-"
      },
      "source": [
        "# import re\n",
        "# from google.cloud import vision\n",
        "# from google.cloud import storage\n",
        "# from google.protobuf import json_format"
      ],
      "execution_count": null,
      "outputs": []
    },
    {
      "cell_type": "code",
      "metadata": {
        "id": "wxreFe1v1ioI"
      },
      "source": [
        "client = vision.ImageAnnotatorClient"
      ],
      "execution_count": null,
      "outputs": []
    },
    {
      "cell_type": "code",
      "metadata": {
        "id": "nZ0Hrkbi1iGc"
      },
      "source": [
        "# # Supported mime_types are: 'application/pdf' and 'image/tiff'\n",
        "# mime_type = 'application/pdf'\n",
        "\n",
        "# # How many pages should be grouped into each json output file.\n",
        "# batch_size = 2"
      ],
      "execution_count": null,
      "outputs": []
    },
    {
      "cell_type": "code",
      "metadata": {
        "id": "dnShJ3QU3L8w"
      },
      "source": [
        "# feature = vision.Feature(\n",
        "#         type_=vision.Feature.Type.DOCUMENT_TEXT_DETECTION)"
      ],
      "execution_count": null,
      "outputs": []
    },
    {
      "cell_type": "code",
      "metadata": {
        "id": "w0CQGQq4_JPV"
      },
      "source": [
        "# gcs_source_uri = 'gs://meropdf/Syllabus.pdf'\n",
        "# gcs_source = vision.GcsSource(uri=gcs_source_uri)\n",
        "# input_config = vision.InputConfig(gcs_source=gcs_source, mime_type=mime_type)"
      ],
      "execution_count": null,
      "outputs": []
    },
    {
      "cell_type": "code",
      "metadata": {
        "id": "YHKOFCFM_pQI"
      },
      "source": [
        "# gcs_destination_uri='gs://meropdf/pdf_result '\n",
        "# gcs_destination = vision.GcsDestination(uri=gcs_destination_uri)  \n",
        "# output_config = vision.OutputConfig(gcs_destination=gcs_destination, batch_size=batch_size)"
      ],
      "execution_count": null,
      "outputs": []
    },
    {
      "cell_type": "code",
      "metadata": {
        "colab": {
          "base_uri": "https://localhost:8080/"
        },
        "id": "QWC-O8nBAWwh",
        "outputId": "a08b9b4a-6f62-49cb-d975-dfc93ada5268"
      },
      "source": [
        "import re\n",
        "import json\n",
        "from google.cloud import vision\n",
        "from google.cloud import storage\n",
        "from google.protobuf import json_format\n",
        "\n",
        "\"\"\" \n",
        "# pip install --upgrade google-cloud-storage\n",
        "\"\"\"\n",
        "\n",
        "client = vision.ImageAnnotatorClient()\n",
        "\n",
        "batch_size = 2\n",
        "mime_type = 'application/pdf'\n",
        "feature = vision.Feature(\n",
        "        type_=vision.Feature.Type.DOCUMENT_TEXT_DETECTION)\n",
        "\n",
        "gcs_source_uri = 'gs://meropdf/Syllabus.pdf'\n",
        "gcs_source = vision.GcsSource(uri=gcs_source_uri)\n",
        "input_config = vision.InputConfig(gcs_source=gcs_source, mime_type=mime_type)\n",
        "\n",
        "gcs_destination_uri = 'gs://meropdf/pdf_result'\n",
        "gcs_destination = vision.GcsDestination(uri=gcs_destination_uri)\n",
        "output_config = vision.OutputConfig(gcs_destination=gcs_destination, batch_size=batch_size)\n",
        "\n",
        "async_request = vision.AsyncAnnotateFileRequest(\n",
        "    features=[feature], input_config=input_config, output_config=output_config)\n",
        "\n",
        "operation = client.async_batch_annotate_files(requests=[async_request])\n",
        "operation.result(timeout=180)\n",
        "\n",
        "storage_client = storage.Client()\n",
        "match = re.match(r'gs://([^/]+)/(.+)', gcs_destination_uri)\n",
        "bucket_name = match.group(1)\n",
        "prefix = match.group(2)\n",
        "bucket = storage_client.get_bucket(bucket_name)\n",
        "\n",
        "# List object with the given prefix\n",
        "blob_list = list(bucket.list_blobs(prefix=prefix))\n",
        "print('Output files:')\n",
        "for blob in blob_list:\n",
        "    print(blob.name)\n",
        "\n",
        "output = blob_list[0]\n",
        "json_string = output.download_as_string()\n",
        "\n",
        "response = json.loads(json_string)\n",
        "# response = json_format.Parse(\n",
        "#             json_string, vision.AnnotateFileResponse())\n",
        "\n",
        "# The actual response for the first page of the input file.\n",
        "first_page_response = response['responses'][0]\n",
        "annotation = first_page_response['fullTextAnnotation']\n",
        "\n",
        "\n",
        "print('Full text:\\n')\n",
        "print(annotation['text'])"
      ],
      "execution_count": 2,
      "outputs": [
        {
          "output_type": "stream",
          "text": [
            "Output files:\n",
            "pdf_resultoutput-1-to-2.json\n",
            "pdf_resultoutput-3-to-4.json\n",
            "pdf_resultoutput-5-to-6.json\n",
            "Full text:\n",
            "\n",
            "PHYS 225- Fundamental Physics, Section 05(31825)\n",
            "Instructor\n",
            "Shovit Bhari Office Phone, Email Office hour Zoom Meetings\n",
            "Course Information\n",
            "Synchronous\n",
            "Asynchronous\n",
            "Supplemental Instructor (SI) SI Session Email:\n",
            "Textbook\n",
            "CANVAS\n",
            "Exam dates*\n",
            "Physics 225- Fundamental Physics: Mechanics Fall 2020\n",
            "WEB Fully instructions online (657) 278 2148, sbhari@fullerton.edu Mo We 7:00 pm – 8:00 pm (Zoom) Mo We 5:30 pm – 6:45 pm\n",
            "Approximately 80% of the lectures will be conducted virtually on Zoom. There will we instructional activities where you are required to attend the Zoom session.\n",
            "You will not be required to be present during your regular meeting times during asynchronous lectures. I will post the video lectures on the Canvas. Asynchronous meetings, which I will announce in advance. However, you are required to complete assignments and quizzes if they are due on those days.\n",
            "Kyle Tanovitz MW 4:00 pm – 5:15 pm (Zoom SI session) ktanovitz@csu.fullerton.edu\n",
            "• Fundamental of Physics, 11th ed, Halliday, Resnick, and Walker with WileyPLUS\n",
            "Our campus is slowly integrating Canvas instead of Titanium. Canvas is an excellent portal for assignments, communication, discussion, quizzes, and exams. I will post course information on Canvas, and it will be a gateway to access your WileyPLUS assignments.\n",
            "• Exam 1: October 5th, 2020, Wednesday, 5:30 pm – 6:45 pm • Exam 2: November 2nd, 2020, Wednesday, 5:30 pm – 6:45 pm • Final Exam: December 14th, 2020, Monday 5:00 pm – 6:50 pm\n",
            "\n"
          ],
          "name": "stdout"
        }
      ]
    },
    {
      "cell_type": "code",
      "metadata": {
        "id": "iQOjussmCrG_"
      },
      "source": [
        "second_page_response = response['responses'][1]\n",
        "annotation1 = second_page_response['fullTextAnnotation']"
      ],
      "execution_count": 8,
      "outputs": []
    },
    {
      "cell_type": "code",
      "metadata": {
        "id": "JLqS9XcgBeEO",
        "outputId": "ccff0282-1f28-48cb-8553-53451ca582e8",
        "colab": {
          "base_uri": "https://localhost:8080/"
        }
      },
      "source": [
        "print('Full text:\\n')\n",
        "print(annotation1['text'])"
      ],
      "execution_count": 6,
      "outputs": [
        {
          "output_type": "stream",
          "text": [
            "Full text:\n",
            "\n",
            "PHYS 225- Fundamental Physics, Section 05(31825)\n",
            "Course objective, learning goals, and prerequisites\n",
            "In this course, you will learn about some topics in fundamental physics. Physics is an approach to learning about the world around us (and beyond) through measurement. It is happening all around us, and I encourage you to look for examples of how physics is involved in our daily experiences. In this course, we will primarily have focused on the branch of physics called mechanics, which is concerned with motion: how and why things move. You will learn physical concepts, how these fundamental concepts apply to real-world situations, and how to use the physical concepts you will learn to solve problems. You will also understand the physical concepts you learn in the corequisite lab course, Physics 225L.\n",
            "In this course, we won’t just use mathematics to talk about physical ideas-many of the ideas themselves are mathematical. So, to master these concepts (and thus to succeed in this course), you will need to be familiar with some mathematics, especially algebra, trigonometry, and calculus. Therefore, to take this course, you must have completed MATH 150A, \"Calculus.”\n",
            "If it's been a while since you've last done any algebra, trigonometry, or calculus, you can still succeed in this course; however, I strongly suggest that you start practicing and reviewing the mathematics as soon as you can. One right way to do this is to work through practice problems and solutions. See also \"Getting Help\" below.\n",
            "Grading policy\n",
            "Grading scheme: Your grade will be based on weekly homework, a weekly quiz, two midterm exams, and a final exam.\n",
            "All grades in this course are based on percentages, not on an absolute number of points. The percentage of the maximum possible points that you earn will be weighed, and your grades will be assigned as follows:\n",
            "Weighed Grade Grade Breakdown\n",
            "C+: 77-79% Homework 30% C: 73-76% Quizzes 20% C-: 70-72% Exam (each 15%) 30% D+: 67-69% Final Exam 20% D: 63-66% D-: 60-62% F: <59% Total of 100%\n",
            "• *If for any reason exam dates must be changed, an announcement will be made in class and on the course webpage\n",
            "A+: 97%-100% A: 93% -96% A-: 90%- 92% B+: 87%- 89% B: 83-86% B-: 80-82%\n",
            "\n"
          ],
          "name": "stdout"
        }
      ]
    }
  ]
}